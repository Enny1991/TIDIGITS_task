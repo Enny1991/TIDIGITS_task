{
 "cells": [
  {
   "cell_type": "code",
   "execution_count": 1,
   "metadata": {
    "collapsed": true
   },
   "outputs": [],
   "source": [
    "import numpy as np"
   ]
  },
  {
   "cell_type": "code",
   "execution_count": 2,
   "metadata": {
    "collapsed": true
   },
   "outputs": [],
   "source": [
    "from scipy.io import loadmat\n",
    "\n",
    "train = loadmat('C:\\\\Users\\\\gencee\\\\Dropbox\\\\eth\\\\master\\\\MT\\\\TIDIGITS_task\\\\data\\\\tidigits_mfccs_train.mat')['tidigits_mfccs_train']\n",
    "test = loadmat('C:\\\\Users\\\\gencee\\\\Dropbox\\\\eth\\\\master\\\\MT\\\\TIDIGITS_task\\\\data\\\\tidigits_mfccs_test.mat')['tidigits_mfccs_test']\n"
   ]
  },
  {
   "cell_type": "code",
   "execution_count": 3,
   "metadata": {
    "collapsed": false
   },
   "outputs": [],
   "source": [
    "sampTr = train['mfccs_third'][0][0][0] \n",
    "labTr = train['idx_labels'][0][0]\n",
    "sampTe = test['mfccs_third'][0][0][0]\n",
    "labTe = test['idx_labels'][0][0]"
   ]
  },
  {
   "cell_type": "code",
   "execution_count": null,
   "metadata": {
    "collapsed": true
   },
   "outputs": [],
   "source": []
  },
  {
   "cell_type": "code",
   "execution_count": 4,
   "metadata": {
    "collapsed": false
   },
   "outputs": [],
   "source": [
    "#find max length sample to use it as reference for padding\n",
    "maxlenTr= 0\n",
    "maxlenTe= 0\n",
    "for i in range(sampTr.shape[0]):\n",
    "    if sampTr[i].shape[1]>maxlenTr:\n",
    "        maxlenTr = sampTr[i].shape[1]\n",
    "        indexTr = i\n",
    "        \n",
    "for i in range(sampTe.shape[0]):\n",
    "    if sampTe[i].shape[1]>maxlenTe:\n",
    "        maxlenTe = sampTe[i].shape[1]\n",
    "        indexTe = i\n",
    "        \n",
    "if maxlenTe>maxlenTr:\n",
    "    maxl=maxlenTe\n",
    "else:\n",
    "    maxl=maxlenTr\n",
    "    "
   ]
  },
  {
   "cell_type": "code",
   "execution_count": 5,
   "metadata": {
    "collapsed": false
   },
   "outputs": [],
   "source": [
    "#pad out all training and test samples\n",
    "trainObs=np.zeros([sampTr.shape[0],sampTr[0].shape[0],maxl])\n",
    "testObs=np.zeros([sampTe.shape[0],sampTe[0].shape[0],maxl])\n",
    "\n",
    "for i in range(sampTr.shape[0]):\n",
    "    s = sampTr[i].shape\n",
    "    for j in range(sampTr[i].shape[0]):\n",
    "        trainObs[i,j,:]= np.lib.pad(sampTr[i][j],(0,maxl-s[1]),'constant',constant_values=(0,0))\n",
    "        \n",
    "for i in range(sampTe.shape[0]):\n",
    "    s = sampTe[i].shape\n",
    "    for j in range(sampTe[i].shape[0]):\n",
    "        testObs[i,j,:]= np.lib.pad(sampTe[i][j],(0,maxl-s[1]),'constant',constant_values=(0,0))\n",
    "              "
   ]
  },
  {
   "cell_type": "code",
   "execution_count": 31,
   "metadata": {
    "collapsed": false
   },
   "outputs": [],
   "source": [
    "p = np.random.permutation(trainObs.shape[0])\n",
    "a = np.zeros_like(trainObs)\n",
    "a = trainObs[p,:,:]\n",
    "b = np.zeros_like(labelsTr)\n",
    "b = labelsTr[p,:]\n",
    "trainObs = a\n",
    "labelsTr = b\n",
    "\n",
    "p = np.random.permutation(testObs.shape[0])\n",
    "a = np.zeros_like(testObs)\n",
    "a = testObs[p,:,:]\n",
    "b = np.zeros_like(labelsTe)\n",
    "b = labelsTe[p,:]\n",
    "testObs = a\n",
    "labelsTe = b\n",
    "\n"
   ]
  },
  {
   "cell_type": "code",
   "execution_count": 34,
   "metadata": {
    "collapsed": false
   },
   "outputs": [
    {
     "data": {
      "text/plain": [
       "array([[ 0.,  0.,  0., ...,  0.,  0.,  0.],\n",
       "       [ 0.,  0.,  0., ...,  0.,  0.,  0.],\n",
       "       [ 0.,  0.,  0., ...,  1.,  0.,  0.],\n",
       "       ..., \n",
       "       [ 0.,  0.,  0., ...,  0.,  0.,  0.],\n",
       "       [ 0.,  0.,  0., ...,  0.,  0.,  0.],\n",
       "       [ 0.,  0.,  1., ...,  0.,  0.,  0.]])"
      ]
     },
     "execution_count": 34,
     "metadata": {},
     "output_type": "execute_result"
    }
   ],
   "source": []
  },
  {
   "cell_type": "code",
   "execution_count": 33,
   "metadata": {
    "collapsed": true
   },
   "outputs": [],
   "source": [
    "#convert class labels from scalars to one-hot vectors\n",
    "def dense_to_one_hot(labels_dense, num_classes=10):\n",
    "    num_labels = labels_dense.shape[0]\n",
    "    index_offset = np.arange(num_labels) * num_classes\n",
    "    labels_one_hot = np.zeros((num_labels, num_classes))\n",
    "    labels_one_hot.flat[index_offset + labels_dense.ravel()] = 1\n",
    "    return labels_one_hot"
   ]
  },
  {
   "cell_type": "code",
   "execution_count": 7,
   "metadata": {
    "collapsed": false
   },
   "outputs": [],
   "source": [
    "labelsTr = dense_to_one_hot(labTr[0],num_classes=11)\n",
    "labelsTe = dense_to_one_hot(labTe[0],num_classes=11)"
   ]
  },
  {
   "cell_type": "code",
   "execution_count": 27,
   "metadata": {
    "collapsed": false
   },
   "outputs": [
    {
     "data": {
      "text/plain": [
       "(1, 2464)"
      ]
     },
     "execution_count": 27,
     "metadata": {},
     "output_type": "execute_result"
    }
   ],
   "source": [
    "labTr.shape"
   ]
  },
  {
   "cell_type": "code",
   "execution_count": 8,
   "metadata": {
    "collapsed": false
   },
   "outputs": [],
   "source": [
    "import tensorflow as tf\n",
    "from tensorflow.contrib.rnn import LSTMCell, MultiRNNCell,BasicLSTMCell\n",
    "from tensorflow.python.ops import rnn"
   ]
  },
  {
   "cell_type": "code",
   "execution_count": 49,
   "metadata": {
    "collapsed": false
   },
   "outputs": [],
   "source": [
    "tf.reset_default_graph()\n",
    "\n",
    "learning_rate = 0.001\n",
    "training_iters = 120\n",
    "batch_size = 100\n",
    "display_step = 40\n",
    "\n",
    "n_input = 39\n",
    "n_steps = maxl\n",
    "n_hidden = 128\n",
    "n_classes = 11\n",
    "\n",
    "x = tf.placeholder('float',[None, n_input, n_steps])\n",
    "y = tf.placeholder('float',[None, n_classes])"
   ]
  },
  {
   "cell_type": "code",
   "execution_count": 46,
   "metadata": {
    "collapsed": false
   },
   "outputs": [],
   "source": [
    "def RNN(x):\n",
    "    layer = {'weights':tf.Variable(tf.random_normal([n_hidden,n_classes])),\n",
    "             'biases':tf.Variable(tf.random_normal([n_classes]))}\n",
    "    cell = LSTMCell(n_hidden,state_is_tuple=True)\n",
    "    cell = MultiRNNCell([cell] * 2)\n",
    "    output, states = rnn.dynamic_rnn(cell, x, dtype = tf.float32)\n",
    "    output = tf.transpose(output, [1, 0, 2])\n",
    "    last = tf.gather(output, int(output.get_shape()[0]) - 1)\n",
    "\n",
    "    output = tf.matmul(last,layer['weights'])+layer['biases']\n",
    "    \n",
    "    return tf.nn.softmax(output) "
   ]
  },
  {
   "cell_type": "code",
   "execution_count": 47,
   "metadata": {
    "collapsed": false
   },
   "outputs": [
    {
     "name": "stderr",
     "output_type": "stream",
     "text": [
      "C:\\Users\\gencee\\Anaconda3\\lib\\site-packages\\tensorflow\\python\\ops\\gradients_impl.py:91: UserWarning: Converting sparse IndexedSlices to a dense Tensor of unknown shape. This may consume a large amount of memory.\n",
      "  \"Converting sparse IndexedSlices to a dense Tensor of unknown shape. \"\n"
     ]
    }
   ],
   "source": [
    "prediction =RNN(x)\n",
    "\n",
    "# define cost and optimizer\n",
    "cost= -tf.reduce_sum(y* tf.log(prediction))\n",
    "optimizer = tf.train.AdamOptimizer(learning_rate=learning_rate).minimize(cost)\n",
    "    \n",
    "#evaluate model\n",
    "correct_pred = tf.equal(tf.argmax(prediction,1), tf.argmax(y,1))\n",
    "accuracy = tf.reduce_mean(tf.cast(correct_pred, 'float'))\n"
   ]
  },
  {
   "cell_type": "code",
   "execution_count": 48,
   "metadata": {
    "collapsed": false
   },
   "outputs": [
    {
     "name": "stdout",
     "output_type": "stream",
     "text": [
      "WARNING:tensorflow:From <ipython-input-48-1a9f087f382e>:2: initialize_all_variables (from tensorflow.python.ops.variables) is deprecated and will be removed after 2017-03-02.\n",
      "Instructions for updating:\n",
      "Use `tf.global_variables_initializer` instead.\n",
      "Iter 0, Training Accuracy= 0.42000\n",
      "Iter 100, Training Accuracy= 1.00000\n",
      "Test Accuracy= 0.24095\n"
     ]
    }
   ],
   "source": [
    "with tf.Session() as session:\n",
    "    session.run(tf.initialize_all_variables())\n",
    "    \n",
    "    for itr in range(training_iters):\n",
    "        offset = (itr * batch_size) % (labelsTr.shape[0] - batch_size)\n",
    "        batch_x = trainObs[offset:(offset + batch_size),:,:]\n",
    "        batch_y = labelsTr[offset:(offset + batch_size), :]\n",
    "        _, c = session.run([optimizer, cost],feed_dict={x: batch_x, y : batch_y})\n",
    "           \n",
    "        if itr % display_step == 0:\n",
    "            # Calculate batch accuracy\n",
    "            acc = session.run(accuracy, feed_dict={x: batch_x, y: batch_y})\n",
    "            print(\"Iter \" + str(itr) + \", Training Accuracy= \" + \"{:.5f}\".format(acc))\n",
    "    acc = session.run(accuracy, feed_dict={x: testObs, y: labelsTe})\n",
    "    print(\"Test Accuracy= \" + \"{:.5f}\".format(acc))"
   ]
  },
  {
   "cell_type": "code",
   "execution_count": 44,
   "metadata": {
    "collapsed": false
   },
   "outputs": [
    {
     "data": {
      "text/plain": [
       "544"
      ]
     },
     "execution_count": 44,
     "metadata": {},
     "output_type": "execute_result"
    }
   ],
   "source": [
    "(100* batch_size) % (labelsTr.shape[0] - batch_size)"
   ]
  },
  {
   "cell_type": "code",
   "execution_count": null,
   "metadata": {
    "collapsed": true
   },
   "outputs": [],
   "source": []
  }
 ],
 "metadata": {
  "anaconda-cloud": {},
  "kernelspec": {
   "display_name": "Python [default]",
   "language": "python",
   "name": "python3"
  },
  "language_info": {
   "codemirror_mode": {
    "name": "ipython",
    "version": 3
   },
   "file_extension": ".py",
   "mimetype": "text/x-python",
   "name": "python",
   "nbconvert_exporter": "python",
   "pygments_lexer": "ipython3",
   "version": "3.5.2"
  }
 },
 "nbformat": 4,
 "nbformat_minor": 1
}
