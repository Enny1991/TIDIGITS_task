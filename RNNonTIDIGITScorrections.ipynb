{
 "cells": [
  {
   "cell_type": "code",
   "execution_count": 50,
   "metadata": {
    "collapsed": true
   },
   "outputs": [],
   "source": [
    "import numpy as np"
   ]
  },
  {
   "cell_type": "code",
   "execution_count": 51,
   "metadata": {
    "collapsed": true
   },
   "outputs": [],
   "source": [
    "from scipy.io import loadmat\n",
    "\n",
    "train = loadmat('C:\\\\Users\\\\gencee\\\\Dropbox\\\\eth\\\\master\\\\MT\\\\TIDIGITS_task\\\\data\\\\tidigits_mfccs_train.mat')['tidigits_mfccs_train']\n",
    "test = loadmat('C:\\\\Users\\\\gencee\\\\Dropbox\\\\eth\\\\master\\\\MT\\\\TIDIGITS_task\\\\data\\\\tidigits_mfccs_test.mat')['tidigits_mfccs_test']\n"
   ]
  },
  {
   "cell_type": "code",
   "execution_count": 52,
   "metadata": {
    "collapsed": false
   },
   "outputs": [],
   "source": [
    "sampTr = train['mfccs_third'][0][0][0] \n",
    "labTr = train['idx_labels'][0][0]\n",
    "sampTe = test['mfccs_third'][0][0][0]\n",
    "labTe = test['idx_labels'][0][0]"
   ]
  },
  {
   "cell_type": "code",
   "execution_count": 53,
   "metadata": {
    "collapsed": false
   },
   "outputs": [],
   "source": [
    "#find max length sample to use it as reference for padding\n",
    "maxlenTr= 0\n",
    "maxlenTe= 0\n",
    "for i in range(sampTr.shape[0]):\n",
    "    if sampTr[i].shape[1]>maxlenTr:\n",
    "        maxlenTr = sampTr[i].shape[1]\n",
    "        indexTr = i\n",
    "        \n",
    "for i in range(sampTe.shape[0]):\n",
    "    if sampTe[i].shape[1]>maxlenTe:\n",
    "        maxlenTe = sampTe[i].shape[1]\n",
    "        indexTe = i\n",
    "        \n",
    "if maxlenTe>maxlenTr:\n",
    "    maxl=maxlenTe\n",
    "else:\n",
    "    maxl=maxlenTr\n",
    "    "
   ]
  },
  {
   "cell_type": "code",
   "execution_count": 54,
   "metadata": {
    "collapsed": false
   },
   "outputs": [],
   "source": [
    "## REMARK 1 - padding\n",
    "# If not all the sequence have the same length you HAVE TO pre-pad them.\n",
    "# The reason is simple, when you feed them in the RNN you then take the last activation to do the classification, but\n",
    "# if the last activation comes after 100 or more steps of zeros the input will be washed out and also the gradient will not flow.\n",
    "\n",
    "#pad out all training and test samples\n",
    "trainObs=np.zeros([sampTr.shape[0],sampTr[0].shape[0],maxl])\n",
    "testObs=np.zeros([sampTe.shape[0],sampTe[0].shape[0],maxl])\n",
    "\n",
    "for i in range(sampTr.shape[0]):\n",
    "    s = sampTr[i].shape\n",
    "    trainObs[i] = np.concatenate((np.zeros((39, maxl - s[1])), sampTr[i]), axis=1).T  ## you should pad with zeros in the beginning\n",
    "#     for j in range(sampTr[i].shape[0]):\n",
    "#         trainObs[i,j,:]= np.lib.pad(sampTr[i][j],(0,maxl-s[1]),'constant',constant_values=(0,0))\n",
    "        \n",
    "for i in range(sampTe.shape[0]):\n",
    "    s = sampTe[i].shape\n",
    "    testObs[i] = np.concatenate((np.zeros((39, maxl - s[1])), sampTe[i]), axis=1).T  ## pad with zeros in the beginning\n",
    "#     for j in range(sampTe[i].shape[0]):\n",
    "#         testObs[i,j,:]= np.lib.pad(sampTe[i][j],(0,maxl-s[1]),'constant',constant_values=(0,0))\n",
    "              \n",
    "    "
   ]
  },
  {
   "cell_type": "code",
   "execution_count": 55,
   "metadata": {
    "collapsed": true
   },
   "outputs": [],
   "source": [
    "#convert class labels from scalars to one-hot vectors\n",
    "def dense_to_one_hot(labels_dense, num_classes=10):\n",
    "    num_labels = labels_dense.shape[0]\n",
    "    index_offset = np.arange(num_labels) * num_classes\n",
    "    labels_one_hot = np.zeros((num_labels, num_classes))\n",
    "    labels_one_hot.flat[index_offset + labels_dense.ravel()] = 1\n",
    "    return labels_one_hot"
   ]
  },
  {
   "cell_type": "code",
   "execution_count": 56,
   "metadata": {
    "collapsed": false
   },
   "outputs": [],
   "source": [
    "labelsTr = dense_to_one_hot(labTr[0],num_classes=11)\n",
    "labelsTe = dense_to_one_hot(labTe[0],num_classes=11)"
   ]
  },
  {
   "cell_type": "code",
   "execution_count": 57,
   "metadata": {
    "collapsed": false
   },
   "outputs": [],
   "source": [
    "#shuffle data\n",
    "p = np.random.permutation(trainObs.shape[0])\n",
    "a = np.zeros_like(trainObs)\n",
    "a = trainObs[p,:,:]\n",
    "b = np.zeros_like(labelsTr)\n",
    "b = labelsTr[p,:]\n",
    "trainObs = a\n",
    "labelsTr = b\n",
    "\n",
    "p = np.random.permutation(testObs.shape[0])\n",
    "a = np.zeros_like(testObs)\n",
    "a = testObs[p,:,:]\n",
    "b = np.zeros_like(labelsTe)\n",
    "b = labelsTe[p,:]\n",
    "testObs = a\n",
    "labelsTe = b"
   ]
  },
  {
   "cell_type": "code",
   "execution_count": 58,
   "metadata": {
    "collapsed": false
   },
   "outputs": [],
   "source": [
    "import tensorflow as tf\n",
    "from tensorflow.contrib.rnn import LSTMCell, MultiRNNCell,BasicLSTMCell\n",
    "from tensorflow.python.ops import rnn"
   ]
  },
  {
   "cell_type": "code",
   "execution_count": 59,
   "metadata": {
    "collapsed": false
   },
   "outputs": [],
   "source": [
    "tf.reset_default_graph()\n",
    "\n",
    "learning_rate = 0.001\n",
    "training_iters = 120\n",
    "batch_size = 100\n",
    "display_step = 40\n",
    "\n",
    "n_input = 39\n",
    "n_steps = maxl\n",
    "n_hidden = 128\n",
    "n_classes = 11\n",
    "\n",
    "## REMARK 2 - sequence\n",
    "# Unless you tell tensorflow, the order for the tesnrof dimension is \n",
    "# [batch_size, time_steps, features]\n",
    "# Here is the main mistake you made you where running the RNN alogn the features dimension instead of the time dimension.\n",
    "# Should be :\n",
    "# x = tf.placeholder('float',[None, n_steps, n_input])\n",
    "# y = tf.placeholder('float',[None, n_classes])\n",
    "\n",
    "x = tf.placeholder('float',[None, n_input, n_steps])\n",
    "y = tf.placeholder('float',[None, n_classes])"
   ]
  },
  {
   "cell_type": "code",
   "execution_count": 60,
   "metadata": {
    "collapsed": false
   },
   "outputs": [],
   "source": [
    "def RNN(x):\n",
    "    layer = {'weights':tf.Variable(tf.random_normal([n_hidden,n_classes])),\n",
    "             'biases':tf.Variable(tf.random_normal([n_classes]))}\n",
    "    cell = LSTMCell(n_hidden,state_is_tuple=True)\n",
    "    cell = MultiRNNCell([cell] * 2)\n",
    "    output, states = rnn.dynamic_rnn(cell, x, dtype = tf.float32)\n",
    "    \n",
    "    # Very good !\n",
    "    output = tf.transpose(output, [1, 0, 2])\n",
    "    last = tf.gather(output, int(output.get_shape()[0]) - 1)\n",
    "\n",
    "    output = tf.matmul(last,layer['weights']) + layer['biases']\n",
    "    \n",
    "    return tf.nn.softmax(output) "
   ]
  },
  {
   "cell_type": "code",
   "execution_count": 61,
   "metadata": {
    "collapsed": false
   },
   "outputs": [
    {
     "name": "stderr",
     "output_type": "stream",
     "text": [
      "C:\\Users\\gencee\\Anaconda3\\lib\\site-packages\\tensorflow\\python\\ops\\gradients_impl.py:91: UserWarning: Converting sparse IndexedSlices to a dense Tensor of unknown shape. This may consume a large amount of memory.\n",
      "  \"Converting sparse IndexedSlices to a dense Tensor of unknown shape. \"\n"
     ]
    }
   ],
   "source": [
    "prediction =RNN(x)\n",
    "\n",
    "## REMARK 3 - cost function\n",
    "# Even though the formulation is correct, the calculation you make here is dangerous.\n",
    "# What happens if your activation is 0? \n",
    "# Here you can do 2 things, either you correct the numerical problems by adding a small value to the log (e.g. 1e-10)\n",
    "# or you use tensorflow built-in cost function that takes care of that for you.\n",
    "# \n",
    "# cost= tf.nn.softmax_cross_entropy_with_logits(logits=prediction, labels=y)\n",
    "# where logits is the simple output of the network, the softmax is done inside the function.\n",
    "\n",
    "# define cost and optimizer\n",
    "cost= -tf.reduce_sum(y* tf.log(prediction))\n",
    "optimizer = tf.train.AdamOptimizer(learning_rate=learning_rate).minimize(cost)\n",
    "    \n",
    "#evaluate model\n",
    "correct_pred = tf.equal(tf.argmax(prediction,1), tf.argmax(y,1))\n",
    "accuracy = tf.reduce_mean(tf.cast(correct_pred, 'float'))\n"
   ]
  },
  {
   "cell_type": "code",
   "execution_count": 62,
   "metadata": {
    "collapsed": false
   },
   "outputs": [
    {
     "name": "stdout",
     "output_type": "stream",
     "text": [
      "WARNING:tensorflow:From <ipython-input-62-1a9f087f382e>:2: initialize_all_variables (from tensorflow.python.ops.variables) is deprecated and will be removed after 2017-03-02.\n",
      "Instructions for updating:\n",
      "Use `tf.global_variables_initializer` instead.\n",
      "Iter 0, Training Accuracy= 0.29000\n",
      "Iter 40, Training Accuracy= 0.41000\n",
      "Iter 80, Training Accuracy= 0.96000\n",
      "Test Accuracy= 0.24497\n"
     ]
    }
   ],
   "source": [
    "with tf.Session() as session:\n",
    "    session.run(tf.initialize_all_variables())\n",
    "    \n",
    "    for itr in range(training_iters):\n",
    "        offset = (itr * batch_size) % (labelsTr.shape[0] - batch_size)\n",
    "        batch_x = trainObs[offset:(offset + batch_size),:,:]\n",
    "        batch_y = labelsTr[offset:(offset + batch_size), :]\n",
    "        _, c = session.run([optimizer, cost],feed_dict={x: batch_x, y : batch_y})\n",
    "           \n",
    "        if itr % display_step == 0:\n",
    "            # Calculate batch accuracy\n",
    "            acc = session.run(accuracy, feed_dict={x: batch_x, y: batch_y})\n",
    "            print(\"Iter \" + str(itr) + \", Training Accuracy= \" + \"{:.5f}\".format(acc))\n",
    "    acc = session.run(accuracy, feed_dict={x: testObs, y: labelsTe})\n",
    "    print(\"Test Accuracy= \" + \"{:.5f}\".format(acc))"
   ]
  },
  {
   "cell_type": "code",
   "execution_count": null,
   "metadata": {
    "collapsed": true
   },
   "outputs": [],
   "source": []
  }
 ],
 "metadata": {
  "anaconda-cloud": {},
  "kernelspec": {
   "display_name": "Python 2",
   "language": "python",
   "name": "python2"
  },
  "language_info": {
   "codemirror_mode": {
    "name": "ipython",
    "version": 2
   },
   "file_extension": ".py",
   "mimetype": "text/x-python",
   "name": "python",
   "nbconvert_exporter": "python",
   "pygments_lexer": "ipython2",
   "version": "2.7.10"
  }
 },
 "nbformat": 4,
 "nbformat_minor": 1
}
